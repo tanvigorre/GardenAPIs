{
  "cells": [
    {
      "cell_type": "markdown",
      "metadata": {
        "id": "view-in-github",
        "colab_type": "text"
      },
      "source": [
        "<a href=\"https://colab.research.google.com/github/tanvigorre/GardenAPIs/blob/main/AppleClassification.ipynb\" target=\"_parent\"><img src=\"https://colab.research.google.com/assets/colab-badge.svg\" alt=\"Open In Colab\"/></a>"
      ]
    },
    {
      "cell_type": "markdown",
      "metadata": {
        "id": "qggDei9topb_"
      },
      "source": [
        "We start importing the libraries"
      ]
    },
    {
      "cell_type": "code",
      "execution_count": 1,
      "metadata": {
        "id": "er03mMxuxM0R"
      },
      "outputs": [],
      "source": [
        "from tensorflow import keras\n",
        "from tensorflow.keras.models import Sequential\n",
        "from keras.layers import Dense, Conv2D, MaxPool2D, Flatten, Activation, Dropout, GlobalAveragePooling2D\n",
        "from tensorflow.keras.callbacks import EarlyStopping\n",
        "from keras.preprocessing.image import ImageDataGenerator\n",
        "from tensorflow.keras import datasets, layers, models\n",
        "import tensorflow as tf\n",
        "import os\n",
        "import numpy as np\n",
        "import pandas as pd\n",
        "import matplotlib.pyplot as plt"
      ]
    },
    {
      "cell_type": "code",
      "execution_count": 2,
      "metadata": {
        "colab": {
          "base_uri": "https://localhost:8080/"
        },
        "id": "68QbCBIFPVag",
        "outputId": "887d961c-4543-481d-9059-ba511a2b2807"
      },
      "outputs": [
        {
          "output_type": "stream",
          "name": "stdout",
          "text": [
            "Mounted at /content/drive\n"
          ]
        }
      ],
      "source": [
        "from google.colab import drive\n",
        "drive.mount('/content/drive')"
      ]
    },
    {
      "cell_type": "code",
      "execution_count": null,
      "metadata": {
        "colab": {
          "base_uri": "https://localhost:8080/"
        },
        "id": "8CzPC_AYByb3",
        "outputId": "92177ab0-17b6-43e2-d28b-9983d4b2bb59"
      },
      "outputs": [
        {
          "name": "stdout",
          "output_type": "stream",
          "text": [
            "ls: cannot access '/content/drive/MyDrive/Data': No such file or directory\n"
          ]
        }
      ],
      "source": [
        " ! ls \"/content/drive/MyDrive/Data\""
      ]
    },
    {
      "cell_type": "markdown",
      "metadata": {
        "id": "au1E5HLMot2l"
      },
      "source": [
        "Read the file flower.csv into a dataframe that we call df"
      ]
    },
    {
      "cell_type": "code",
      "source": [
        "cc.run_app(app=app)"
      ],
      "metadata": {
        "colab": {
          "base_uri": "https://localhost:8080/"
        },
        "id": "trXnI_wk0kZR",
        "outputId": "8372d125-2789-4edb-b591-cf5c9d5fc07f"
      },
      "execution_count": null,
      "outputs": [
        {
          "output_type": "stream",
          "name": "stdout",
          "text": [
            ""
          ]
        },
        {
          "output_type": "stream",
          "name": "stderr",
          "text": [
            "INFO:     Started server process [60]\n",
            "INFO:     Waiting for application startup.\n",
            "INFO:     Application startup complete.\n",
            "INFO:     Uvicorn running on http://127.0.0.1:12000 (Press CTRL+C to quit)\n"
          ]
        },
        {
          "output_type": "stream",
          "name": "stdout",
          "text": [
            "Public URL: NgrokTunnel: \"https://837c-35-229-222-21.ngrok.io\" -> \"http://localhost:12000\"\n"
          ]
        }
      ]
    },
    {
      "cell_type": "code",
      "execution_count": null,
      "metadata": {
        "id": "W7UD9pCrQNuu"
      },
      "outputs": [],
      "source": [
        "data_1 = '/content/drive/My Drive/Garden App/App Models/Apple'\n",
        "train = '/content/drive/My Drive/Garden App/App Models/Apple/train'\n",
        "validation = '/content/drive/My Drive/Garden App/App Models/Apple/valid'"
      ]
    },
    {
      "cell_type": "code",
      "execution_count": 3,
      "metadata": {
        "id": "lwBCskUueYC2"
      },
      "outputs": [],
      "source": [
        "target_size = 200\n",
        "data_labels = ['Apple Black rot', 'Apple Healthy', 'Apple Scab','Cedar apple rust']\n",
        "labels = []\n",
        "images = []\n",
        "class_locations = {'Apple Black rot':0,\n",
        "                   'Apple Healthy':1,\n",
        "                   'Apple Scab':2,\n",
        "                   'Cedar apple rust':3}"
      ]
    },
    {
      "cell_type": "code",
      "execution_count": 5,
      "metadata": {
        "colab": {
          "base_uri": "https://localhost:8080/"
        },
        "id": "oGQx0lMkrjco",
        "outputId": "07847db5-a721-4bee-a1cd-e285944f505a"
      },
      "outputs": [
        {
          "output_type": "stream",
          "name": "stderr",
          "text": [
            "100%|██████████| 1678/1678 [00:28<00:00, 58.31it/s] \n",
            "100%|██████████| 1/1 [00:01<00:00,  1.31s/it]\n",
            "100%|██████████| 4/4 [00:01<00:00,  2.26it/s]\n",
            "100%|██████████| 10/10 [00:04<00:00,  2.08it/s]\n"
          ]
        }
      ],
      "source": [
        "import os\n",
        "from tqdm import tqdm \n",
        "from PIL import Image\n",
        "from numpy import asarray\n",
        "target_data = 400\n",
        "for x in data_labels:\n",
        "  path = os.path.join('/content/drive/My Drive/Garden App/App Models/Apple/train', x)\n",
        "  for j in tqdm(os.listdir(path)):\n",
        "    img_path = os.path.join(path,j)\n",
        "    img = Image.open(img_path).convert(\"RGB\")\n",
        "    img = img.resize((target_size, target_size))\n",
        "    img = asarray(img)\n",
        "    images.append(img)\n",
        "    labels.append(x)"
      ]
    },
    {
      "cell_type": "code",
      "execution_count": 6,
      "metadata": {
        "colab": {
          "base_uri": "https://localhost:8080/"
        },
        "id": "uIr_kUOD7Atv",
        "outputId": "6b5cbe4d-0a5b-4fb8-bd4f-6365d6db9cee"
      },
      "outputs": [
        {
          "output_type": "stream",
          "name": "stderr",
          "text": [
            "100%|██████████| 2/2 [00:00<00:00,  4.38it/s]\n",
            "100%|██████████| 11/11 [00:03<00:00,  2.82it/s]\n",
            "100%|██████████| 13/13 [00:02<00:00,  4.34it/s]\n",
            "100%|██████████| 14/14 [00:03<00:00,  3.89it/s]\n"
          ]
        }
      ],
      "source": [
        "import os\n",
        "from tqdm import tqdm \n",
        "from PIL import Image\n",
        "from numpy import asarray\n",
        "for x in data_labels:\n",
        "  path = os.path.join('/content/drive/My Drive/Garden App/App Models/Apple/valid', x)\n",
        "  for j in tqdm(os.listdir(path)):\n",
        "    img_path = os.path.join(path,j)\n",
        "    img = Image.open(img_path).convert(\"RGB\")\n",
        "    img = img.resize((target_size, target_size))\n",
        "    img = asarray(img)\n",
        "    images.append(img)\n",
        "    labels.append(x)"
      ]
    },
    {
      "cell_type": "code",
      "execution_count": 7,
      "metadata": {
        "id": "jMI5ra-MYNG9"
      },
      "outputs": [],
      "source": [
        "import numpy as np\n",
        "x = np.array(images)\n",
        "y = np.array(labels)"
      ]
    },
    {
      "cell_type": "code",
      "execution_count": 8,
      "metadata": {
        "id": "SsKdfI9SZCyN"
      },
      "outputs": [],
      "source": [
        "from sklearn.model_selection import train_test_split\n",
        "x_train, x_test, y_train, y_test = train_test_split(x, y, test_size = 0.2)"
      ]
    },
    {
      "cell_type": "code",
      "execution_count": 9,
      "metadata": {
        "id": "cHnNCydiysc-"
      },
      "outputs": [],
      "source": [
        "from tensorflow.keras.utils import to_categorical\n",
        "y_cat_train = []\n",
        "for i in y_train:\n",
        "  y_cat_train.append(data_labels.index(i))\n",
        "y_cat_train = to_categorical(y_cat_train)\n",
        "\n",
        "y_cat_test = []\n",
        "for i in y_test:\n",
        "  y_cat_test.append(data_labels.index(i))\n",
        "y_cat_test = to_categorical(y_cat_test)"
      ]
    },
    {
      "cell_type": "code",
      "execution_count": 10,
      "metadata": {
        "id": "2ZJsD2Ev0V0x"
      },
      "outputs": [],
      "source": [
        "x_test = x_test/255\n",
        "x_train = x_train/255"
      ]
    },
    {
      "cell_type": "code",
      "execution_count": null,
      "metadata": {
        "id": "Ua3htfeHba-B"
      },
      "outputs": [],
      "source": [
        "x_train.shape"
      ]
    },
    {
      "cell_type": "code",
      "execution_count": null,
      "metadata": {
        "id": "U5mEwzC8bjpk"
      },
      "outputs": [],
      "source": [
        "x_test.shape"
      ]
    },
    {
      "cell_type": "code",
      "execution_count": 11,
      "metadata": {
        "id": "uslHTqbYeq8R"
      },
      "outputs": [],
      "source": [
        "#Create structure of model\n",
        "model = Sequential()\n",
        "\n",
        "model.add(Conv2D(filters = 64, kernel_size = (2,2), activation = 'relu', input_shape = (200, 200, 3), padding='same'))\n",
        "model.add(Dropout(0.5))\n",
        "\n",
        "model.add(Conv2D(filters = 32, kernel_size = (2,2), activation = 'relu', input_shape = (200, 200, 3), padding='same'))\n",
        "model.add(Dropout(0.5))\n",
        "\n",
        "model.add(Conv2D(filters = 32, kernel_size = (1,1), activation = 'relu', padding = 'valid'))\n",
        "model.add(Conv2D(filters = 4, kernel_size = (3,3), activation = 'relu', padding = 'valid'))\n",
        "\n",
        "model.add(Activation('softmax'))\n",
        "model.add(GlobalAveragePooling2D())\n",
        "model.compile(loss='categorical_crossentropy',\n",
        "              optimizer='adam',\n",
        "              metrics=['accuracy'])"
      ]
    },
    {
      "cell_type": "code",
      "execution_count": 12,
      "metadata": {
        "id": "GZ5iafOxjW7H"
      },
      "outputs": [],
      "source": [
        "early_stop = EarlyStopping(monitor='val_loss',patience=1)"
      ]
    },
    {
      "cell_type": "code",
      "execution_count": 13,
      "metadata": {
        "colab": {
          "base_uri": "https://localhost:8080/"
        },
        "id": "XztDSgL0615v",
        "outputId": "2a83fbfe-2fa8-4451-8016-dfc84ed5a6c0"
      },
      "outputs": [
        {
          "output_type": "stream",
          "name": "stdout",
          "text": [
            "Epoch 1/5\n",
            "44/44 [==============================] - 248s 6s/step - loss: 0.5824 - accuracy: 0.9697 - val_loss: 0.2345 - val_accuracy: 0.9683\n",
            "Epoch 2/5\n",
            "44/44 [==============================] - 246s 6s/step - loss: 0.1972 - accuracy: 0.9697 - val_loss: 0.2012 - val_accuracy: 0.9683\n",
            "Epoch 3/5\n",
            "44/44 [==============================] - 246s 6s/step - loss: 0.1777 - accuracy: 0.9697 - val_loss: 0.1801 - val_accuracy: 0.9683\n",
            "Epoch 4/5\n",
            "44/44 [==============================] - 252s 6s/step - loss: 0.1606 - accuracy: 0.9697 - val_loss: 0.1538 - val_accuracy: 0.9683\n",
            "Epoch 5/5\n",
            "44/44 [==============================] - 253s 6s/step - loss: 0.1409 - accuracy: 0.9697 - val_loss: 0.1319 - val_accuracy: 0.9683\n"
          ]
        },
        {
          "output_type": "execute_result",
          "data": {
            "text/plain": [
              "<keras.callbacks.History at 0x7f4dcdd4c1d0>"
            ]
          },
          "metadata": {},
          "execution_count": 13
        }
      ],
      "source": [
        "model.fit(x_train,y_cat_train,epochs=5,validation_data=(x_test,y_cat_test))"
      ]
    },
    {
      "cell_type": "code",
      "source": [
        "from keras.models import load_model\n",
        "\n",
        "model.save('apple_model.h5')\n",
        "del model\n",
        "\n",
        "model = load_model('apple_model.h5')"
      ],
      "metadata": {
        "id": "mNf1trqAMzL2"
      },
      "execution_count": 14,
      "outputs": []
    },
    {
      "cell_type": "code",
      "source": [
        "model.save('applemodel.h5')"
      ],
      "metadata": {
        "id": "rrSJr--hNijx"
      },
      "execution_count": 15,
      "outputs": []
    },
    {
      "cell_type": "code",
      "source": [
        "import pickle\n",
        "\n",
        "with open('apple_pkl.pkl', 'wb') as files:\n",
        "  pickle.dump(model, files)"
      ],
      "metadata": {
        "id": "PTSjDBrj3ZJa",
        "colab": {
          "base_uri": "https://localhost:8080/"
        },
        "outputId": "2c5c31f9-22a8-44d8-d6e0-e03c9dc27b14"
      },
      "execution_count": 18,
      "outputs": [
        {
          "output_type": "stream",
          "name": "stdout",
          "text": [
            "INFO:tensorflow:Assets written to: ram://07a4d8a7-afdb-45e8-b49a-aa939e49d64c/assets\n"
          ]
        },
        {
          "output_type": "stream",
          "name": "stderr",
          "text": [
            "INFO:tensorflow:Assets written to: ram://07a4d8a7-afdb-45e8-b49a-aa939e49d64c/assets\n"
          ]
        }
      ]
    },
    {
      "cell_type": "code",
      "source": [
        "pickle.load(open(\"apple_pkl.pkl\", \"rb\"))"
      ],
      "metadata": {
        "colab": {
          "base_uri": "https://localhost:8080/"
        },
        "id": "4AgIYXArU54o",
        "outputId": "37996e53-66c3-45a9-954d-2ac2fe04499a"
      },
      "execution_count": 19,
      "outputs": [
        {
          "output_type": "execute_result",
          "data": {
            "text/plain": [
              "<keras.engine.sequential.Sequential at 0x7f563bf21a90>"
            ]
          },
          "metadata": {},
          "execution_count": 19
        }
      ]
    },
    {
      "cell_type": "code",
      "source": [
        "import pickle\n",
        "import logging\n",
        "from fastapi import FastAPI\n",
        "from PIL import Image\n",
        "\n",
        "model = None\n",
        "\n",
        "@app.on_event(\"startup\")\n",
        "def load_model():\n",
        "  global model\n",
        "  model = pickle.load(open(\"model_apple.pkl\", \"rb\"))\n",
        "\n",
        "@app.post(\"/api\", tags=[\"prediction\"])\n",
        "def home():\n",
        "  img = #figure this out\n",
        "  img = img.resize((200,200))\n",
        "  img = asarray(\"img\")\n",
        "  pred = model.predict(img)\n"
      ],
      "metadata": {
        "id": "FyfLjbHe1buN"
      },
      "execution_count": null,
      "outputs": []
    },
    {
      "cell_type": "markdown",
      "source": [
        ""
      ],
      "metadata": {
        "id": "04w701Ie5lr_"
      }
    },
    {
      "cell_type": "code",
      "execution_count": null,
      "metadata": {
        "id": "ArEgg3nojZKs"
      },
      "outputs": [],
      "source": [
        "model.fit(train)"
      ]
    },
    {
      "cell_type": "code",
      "execution_count": null,
      "metadata": {
        "id": "OiFS-etWHgXH"
      },
      "outputs": [],
      "source": [
        "losses = pd.DataFrame(model.history.history)"
      ]
    },
    {
      "cell_type": "code",
      "execution_count": null,
      "metadata": {
        "id": "pbv5Zc8uHsMH"
      },
      "outputs": [],
      "source": [
        "losses[['accuracy','val_accuracy']].plot()"
      ]
    },
    {
      "cell_type": "code",
      "source": [
        ""
      ],
      "metadata": {
        "id": "IU0qN52kxmrG"
      },
      "execution_count": null,
      "outputs": []
    }
  ],
  "metadata": {
    "colab": {
      "collapsed_sections": [],
      "name": "AppleClassification.ipynb",
      "provenance": [],
      "include_colab_link": true
    },
    "kernelspec": {
      "display_name": "Python 3",
      "name": "python3"
    },
    "language_info": {
      "name": "python"
    }
  },
  "nbformat": 4,
  "nbformat_minor": 0
}